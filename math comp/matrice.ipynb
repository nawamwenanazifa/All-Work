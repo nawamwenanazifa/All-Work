{
 "cells": [
  {
   "cell_type": "code",
   "execution_count": 1,
   "id": "b4c403d9-5bfa-4502-b219-a1aa2a0781f5",
   "metadata": {},
   "outputs": [],
   "source": [
    "import numpy as np"
   ]
  },
  {
   "cell_type": "code",
   "execution_count": 2,
   "id": "fc05aebc-2698-40e9-a4fd-297882c0b588",
   "metadata": {},
   "outputs": [],
   "source": [
    "import pandas as pd"
   ]
  },
  {
   "cell_type": "code",
   "execution_count": 4,
   "id": "97f9b414-6df1-49b3-8faa-e3df87d6fd01",
   "metadata": {},
   "outputs": [],
   "source": [
    "import matplotlib.pyplot as plt"
   ]
  },
  {
   "cell_type": "code",
   "execution_count": 5,
   "id": "1955afbb-3502-4cac-b0e3-8a96c49e2866",
   "metadata": {},
   "outputs": [],
   "source": [
    "import seaborn as sns"
   ]
  },
  {
   "cell_type": "markdown",
   "id": "7de91550-e6b7-45f0-81d7-ae709e45c83d",
   "metadata": {},
   "source": [
    "# MATRICES"
   ]
  },
  {
   "cell_type": "markdown",
   "id": "8619fdeb-a326-4302-b1f2-5ebe563c54a6",
   "metadata": {},
   "source": [
    "# Create a 2*2 matrix"
   ]
  },
  {
   "cell_type": "code",
   "execution_count": 16,
   "id": "11d43ffd-63c0-4101-8b39-814a4504a627",
   "metadata": {},
   "outputs": [
    {
     "data": {
      "text/plain": [
       "array([[3, 6],\n",
       "       [5, 4]])"
      ]
     },
     "execution_count": 16,
     "metadata": {},
     "output_type": "execute_result"
    }
   ],
   "source": [
    "matrix_one = np.array([[3,6],[5,4]])\n",
    "matrix_one"
   ]
  },
  {
   "cell_type": "markdown",
   "id": "ff53a7ec-6e6f-4bc7-b326-d0de447c44f0",
   "metadata": {},
   "source": [
    "# create a 3*3 matrix"
   ]
  },
  {
   "cell_type": "code",
   "execution_count": 17,
   "id": "12417ea2-d4b0-40ea-8b53-dd3395588ee8",
   "metadata": {},
   "outputs": [
    {
     "data": {
      "text/plain": [
       "array([[2, 4],\n",
       "       [4, 9],\n",
       "       [5, 4]])"
      ]
     },
     "execution_count": 17,
     "metadata": {},
     "output_type": "execute_result"
    }
   ],
   "source": [
    "matrix_two = np.array([[2,4],[4,9],[5,4]])\n",
    "matrix_two"
   ]
  },
  {
   "cell_type": "markdown",
   "id": "c7f979ad-3294-46b9-be91-45c9e3a2f046",
   "metadata": {},
   "source": [
    "# Addition of Matrices"
   ]
  },
  {
   "cell_type": "code",
   "execution_count": 6,
   "id": "67af90ba-3a22-498f-9493-7e719f9bc653",
   "metadata": {},
   "outputs": [
    {
     "name": "stdout",
     "output_type": "stream",
     "text": [
      "[[10 11]\n",
      " [ 7 11]]\n"
     ]
    }
   ],
   "source": [
    "x = np.array([[2,6],[4,9]])\n",
    "y = np.array([[8,5],[3,2]])\n",
    "print(np.add(x,y))"
   ]
  },
  {
   "cell_type": "markdown",
   "id": "40770a10-aae3-42b8-9318-69740e548fdb",
   "metadata": {},
   "source": [
    "# Subtraction of Matrices"
   ]
  },
  {
   "cell_type": "code",
   "execution_count": 7,
   "id": "6b3bef74-b056-471a-a1a0-f9388f5c27ec",
   "metadata": {},
   "outputs": [
    {
     "name": "stdout",
     "output_type": "stream",
     "text": [
      "[[-6  1]\n",
      " [ 1  7]]\n"
     ]
    }
   ],
   "source": [
    "x = np.array([[2,6],[4,9]])\n",
    "y = np.array([[8,5],[3,2]])\n",
    "print(np.subtract(x,y))"
   ]
  },
  {
   "cell_type": "markdown",
   "id": "7d5a737c-1a25-4c67-8c73-5833b2cf7a3f",
   "metadata": {},
   "source": [
    "# Multiplication of Matrices"
   ]
  },
  {
   "cell_type": "code",
   "execution_count": 8,
   "id": "d2727be8-699c-424b-a997-3859545a7e35",
   "metadata": {},
   "outputs": [
    {
     "name": "stdout",
     "output_type": "stream",
     "text": [
      "[[16 30]\n",
      " [12 18]]\n"
     ]
    }
   ],
   "source": [
    "x = np.array([[2,6],[4,9]])\n",
    "y = np.array([[8,5],[3,2]])\n",
    "print(np.multiply(x,y))"
   ]
  },
  {
   "cell_type": "markdown",
   "id": "ad693923-69ae-485a-b8d2-40baac42c13a",
   "metadata": {},
   "source": [
    "# Division of Matrices"
   ]
  },
  {
   "cell_type": "code",
   "execution_count": 9,
   "id": "6bae80e4-98b2-4c56-b403-d28993cfc492",
   "metadata": {},
   "outputs": [
    {
     "name": "stdout",
     "output_type": "stream",
     "text": [
      "[[0.25       1.2       ]\n",
      " [1.33333333 4.5       ]]\n"
     ]
    }
   ],
   "source": [
    "x = np.array([[2,6],[4,9]])\n",
    "y = np.array([[8,5],[3,2]])\n",
    "print(np.divide(x,y))"
   ]
  },
  {
   "cell_type": "markdown",
   "id": "bc04c6b3-7614-49ac-9300-7f07a94f7e82",
   "metadata": {},
   "source": [
    "# TRANSPOSE OF MATRICES"
   ]
  },
  {
   "cell_type": "code",
   "execution_count": 13,
   "id": "2b758422-4fd8-42f1-a0fe-c5f83562cef7",
   "metadata": {},
   "outputs": [
    {
     "data": {
      "text/plain": [
       "array([[4, 3, 9],\n",
       "       [8, 7, 6]])"
      ]
     },
     "execution_count": 13,
     "metadata": {},
     "output_type": "execute_result"
    }
   ],
   "source": [
    "matrix_n = np.array([[4,8],[3,7],[9,6]])\n",
    "matrix_n\n",
    "new_matrix = np.transpose(matrix_n)\n",
    "new_matrix"
   ]
  },
  {
   "cell_type": "markdown",
   "id": "ca9a4c52-7415-47ac-a6a3-32354ce88fbb",
   "metadata": {},
   "source": [
    "## Determinant of Matrices"
   ]
  },
  {
   "cell_type": "code",
   "execution_count": 14,
   "id": "1ebd2f5c-6344-4cc2-b66b-80d5275bdae8",
   "metadata": {},
   "outputs": [
    {
     "data": {
      "text/plain": [
       "array([[3, 8],\n",
       "       [2, 9]])"
      ]
     },
     "execution_count": 14,
     "metadata": {},
     "output_type": "execute_result"
    }
   ],
   "source": [
    "x = np.array([[3,8],[2,9]])\n",
    "x"
   ]
  },
  {
   "cell_type": "code",
   "execution_count": 15,
   "id": "0c982bf8-4e07-416f-87cf-2ba959a79657",
   "metadata": {},
   "outputs": [
    {
     "data": {
      "text/plain": [
       "np.float64(11.000000000000002)"
      ]
     },
     "execution_count": 15,
     "metadata": {},
     "output_type": "execute_result"
    }
   ],
   "source": [
    "det_x = np.linalg.det(x)\n",
    "det_x"
   ]
  },
  {
   "cell_type": "code",
   "execution_count": null,
   "id": "1f4a527e-5715-4fa4-a1d0-317d686cf282",
   "metadata": {},
   "outputs": [],
   "source": []
  }
 ],
 "metadata": {
  "kernelspec": {
   "display_name": "Python 3 (ipykernel)",
   "language": "python",
   "name": "python3"
  },
  "language_info": {
   "codemirror_mode": {
    "name": "ipython",
    "version": 3
   },
   "file_extension": ".py",
   "mimetype": "text/x-python",
   "name": "python",
   "nbconvert_exporter": "python",
   "pygments_lexer": "ipython3",
   "version": "3.12.2"
  }
 },
 "nbformat": 4,
 "nbformat_minor": 5
}
