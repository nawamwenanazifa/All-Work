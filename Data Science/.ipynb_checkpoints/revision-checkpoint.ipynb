{
 "cells": [
  {
   "cell_type": "markdown",
   "id": "99056330-510a-48f8-a775-d1a1d08c5381",
   "metadata": {},
   "source": [
    " NO.2"
   ]
  },
  {
   "cell_type": "code",
   "execution_count": 1,
   "id": "51702fbe-50a7-4aa6-a2ff-9859915cd79a",
   "metadata": {},
   "outputs": [],
   "source": [
    "import numpy as np"
   ]
  },
  {
   "cell_type": "code",
   "execution_count": 2,
   "id": "7248edf7-1808-48fe-8f36-acd5a4661646",
   "metadata": {},
   "outputs": [],
   "source": [
    "import matplotlib.pyplot as plt"
   ]
  },
  {
   "cell_type": "code",
   "execution_count": 3,
   "id": "31f39ea1-ca9f-4d8e-9a51-b72dc94b8776",
   "metadata": {},
   "outputs": [],
   "source": [
    "import seaborn as sns"
   ]
  },
  {
   "cell_type": "code",
   "execution_count": 4,
   "id": "7c5547a7-394c-4129-a6b8-26e79c483603",
   "metadata": {},
   "outputs": [],
   "source": [
    "import pandas as pd"
   ]
  },
  {
   "cell_type": "markdown",
   "id": "038bdefe-a70f-4b7e-9e02-6fe0f4e9dd14",
   "metadata": {},
   "source": [
    "(a)"
   ]
  },
  {
   "cell_type": "code",
   "execution_count": 25,
   "id": "1e4454a5-c113-4b46-aad1-0080aa570595",
   "metadata": {},
   "outputs": [
    {
     "data": {
      "text/plain": [
       "{}"
      ]
     },
     "execution_count": 25,
     "metadata": {},
     "output_type": "execute_result"
    }
   ],
   "source": [
    "dct={}\n",
    "dct"
   ]
  },
  {
   "cell_type": "markdown",
   "id": "eef2862e-746e-435f-b529-dca1100610e3",
   "metadata": {},
   "source": [
    "(b)"
   ]
  },
  {
   "cell_type": "code",
   "execution_count": 26,
   "id": "9c95a158-cfa6-4660-b58e-d33960f641e6",
   "metadata": {},
   "outputs": [
    {
     "name": "stdout",
     "output_type": "stream",
     "text": [
      "{'Apple': 1, 'Bannana': 2.0, 'Cherry': 'iii'}\n"
     ]
    }
   ],
   "source": [
    "dct={\"Apple\":1,\"Banana\":2.0,\"Cherry\":\"iii\"}\n",
    "print(dct)"
   ]
  },
  {
   "cell_type": "markdown",
   "id": "67986151-39a5-45d7-b3cd-d3bb6cd5e2b9",
   "metadata": {},
   "source": [
    "(c)"
   ]
  },
  {
   "cell_type": "code",
   "execution_count": 27,
   "id": "556b69e8-9a57-4b78-8c9c-64a10e11420f",
   "metadata": {},
   "outputs": [
    {
     "data": {
      "text/plain": [
       "{'Apple': 'I', 'Bannana': 2.0, 'Cherry': 'iii'}"
      ]
     },
     "execution_count": 27,
     "metadata": {},
     "output_type": "execute_result"
    }
   ],
   "source": [
    "dct.update({\"Apple\":\"I\"})\n",
    "dct"
   ]
  },
  {
   "cell_type": "markdown",
   "id": "9a982731-2968-4412-8bf8-94d20f4ed230",
   "metadata": {},
   "source": [
    "(d)"
   ]
  },
  {
   "cell_type": "code",
   "execution_count": 35,
   "id": "9ad38c7d-a3dd-4e26-97e4-15744b44d592",
   "metadata": {},
   "outputs": [
    {
     "data": {
      "text/plain": [
       "{'Apple': 'I', 'Cherry': 'iii'}"
      ]
     },
     "execution_count": 35,
     "metadata": {},
     "output_type": "execute_result"
    }
   ],
   "source": [
    "del dct [\"Banana\"]\n",
    "dct"
   ]
  },
  {
   "cell_type": "code",
   "execution_count": null,
   "id": "3db07daa-ebbc-4ab2-8c5a-2b42b4509c49",
   "metadata": {},
   "outputs": [],
   "source": []
  }
 ],
 "metadata": {
  "kernelspec": {
   "display_name": "Python 3 (ipykernel)",
   "language": "python",
   "name": "python3"
  },
  "language_info": {
   "codemirror_mode": {
    "name": "ipython",
    "version": 3
   },
   "file_extension": ".py",
   "mimetype": "text/x-python",
   "name": "python",
   "nbconvert_exporter": "python",
   "pygments_lexer": "ipython3",
   "version": "3.12.2"
  }
 },
 "nbformat": 4,
 "nbformat_minor": 5
}
