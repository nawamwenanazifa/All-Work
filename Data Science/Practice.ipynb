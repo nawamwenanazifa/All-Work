{
 "cells": [
  {
   "cell_type": "code",
   "execution_count": null,
   "id": "76ec0dd9-74e6-430d-86fa-25d0726cb892",
   "metadata": {},
   "outputs": [],
   "source": []
  },
  {
   "cell_type": "code",
   "execution_count": null,
   "id": "2fd64657-bc33-4c9e-864e-6b049b46f65f",
   "metadata": {},
   "outputs": [],
   "source": []
  },
  {
   "cell_type": "markdown",
   "id": "a84b9049-f0a4-4158-b738-d700edd835b0",
   "metadata": {},
   "source": [
    "DETERMINATION"
   ]
  },
  {
   "cell_type": "markdown",
   "id": "838a14e7-91f1-490a-9c1c-612787c14187",
   "metadata": {},
   "source": [
    "# DETERMINATION"
   ]
  },
  {
   "cell_type": "code",
   "execution_count": 17,
   "id": "3d3a718b-7b5a-4816-91cf-de60ed621892",
   "metadata": {},
   "outputs": [],
   "source": [
    "Student=(\"Nawamwena: Nazifa\")"
   ]
  },
  {
   "cell_type": "code",
   "execution_count": 18,
   "id": "189fbb78-a967-4848-b15c-0475ebc6ca02",
   "metadata": {},
   "outputs": [
    {
     "name": "stdout",
     "output_type": "stream",
     "text": [
      "Nawamwena: Nazifa\n"
     ]
    }
   ],
   "source": [
    "print(Student)"
   ]
  },
  {
   "cell_type": "markdown",
   "id": "875109b2-2768-4d94-9663-2333c42c250e",
   "metadata": {},
   "source": [
    "# Create a dictionary with elements as your surname and first name"
   ]
  },
  {
   "cell_type": "code",
   "execution_count": 4,
   "id": "df6b37f4-ba6d-43bf-9471-51ea955a1d38",
   "metadata": {},
   "outputs": [],
   "source": [
    "name_list=[\"chicken roll\", \"bang bang chicken\", \"egg roll\", \"cumber\"]"
   ]
  },
  {
   "cell_type": "code",
   "execution_count": 6,
   "id": "1830ccb5-bcea-4605-a3db-e058449f011e",
   "metadata": {},
   "outputs": [
    {
     "name": "stdout",
     "output_type": "stream",
     "text": [
      "chicken roll\n",
      "bang bang chicken\n",
      "egg roll\n",
      "cumber\n"
     ]
    }
   ],
   "source": [
    "for name in name_list:\n",
    "    print(name)"
   ]
  },
  {
   "cell_type": "raw",
   "id": "37a916c0-595c-4add-b2a2-006485cc6b81",
   "metadata": {},
   "source": []
  },
  {
   "cell_type": "markdown",
   "id": "456a91c7-dd85-4b5b-9159-b07407e9497f",
   "metadata": {},
   "source": [
    "## Import libraries"
   ]
  },
  {
   "cell_type": "markdown",
   "id": "68f57bcd-d091-4927-9734-30de1020cc93",
   "metadata": {},
   "source": [
    "# Create a dictionary with lists of [student name, subject and grade]"
   ]
  },
  {
   "cell_type": "code",
   "execution_count": 3,
   "id": "ecac2afe-8b54-44c7-8ae3-1cb095b75d55",
   "metadata": {},
   "outputs": [],
   "source": [
    "import numpy as np\n",
    "import pandas as pd"
   ]
  },
  {
   "cell_type": "code",
   "execution_count": 2,
   "id": "89b3f987-fc3b-4ccf-8d34-bdc1af8e2bfb",
   "metadata": {},
   "outputs": [],
   "source": [
    "student_info = {\n",
    "    'student':['Alice', 'Bob','Alice', 'Bob'],\n",
    "    'subject':['math', 'math', 'science', 'science'],\n",
    "    'grade':[90,88,95,92]\n",
    "}"
   ]
  },
  {
   "cell_type": "markdown",
   "id": "eca181c9-698a-4d10-9393-df51ab9c1850",
   "metadata": {},
   "source": [
    "# Create a data frame"
   ]
  },
  {
   "cell_type": "code",
   "execution_count": 4,
   "id": "f2437708-5598-4074-b4ef-0b97a3fd752e",
   "metadata": {},
   "outputs": [],
   "source": [
    "df=pd.DataFrame(student_info)"
   ]
  },
  {
   "cell_type": "code",
   "execution_count": 5,
   "id": "0c8fe5b8-e4da-4fad-8ef8-8c366a8148aa",
   "metadata": {},
   "outputs": [
    {
     "data": {
      "text/html": [
       "<div>\n",
       "<style scoped>\n",
       "    .dataframe tbody tr th:only-of-type {\n",
       "        vertical-align: middle;\n",
       "    }\n",
       "\n",
       "    .dataframe tbody tr th {\n",
       "        vertical-align: top;\n",
       "    }\n",
       "\n",
       "    .dataframe thead th {\n",
       "        text-align: right;\n",
       "    }\n",
       "</style>\n",
       "<table border=\"1\" class=\"dataframe\">\n",
       "  <thead>\n",
       "    <tr style=\"text-align: right;\">\n",
       "      <th></th>\n",
       "      <th>student</th>\n",
       "      <th>subject</th>\n",
       "      <th>grade</th>\n",
       "    </tr>\n",
       "  </thead>\n",
       "  <tbody>\n",
       "    <tr>\n",
       "      <th>0</th>\n",
       "      <td>Alice</td>\n",
       "      <td>math</td>\n",
       "      <td>90</td>\n",
       "    </tr>\n",
       "    <tr>\n",
       "      <th>1</th>\n",
       "      <td>Bob</td>\n",
       "      <td>math</td>\n",
       "      <td>88</td>\n",
       "    </tr>\n",
       "    <tr>\n",
       "      <th>2</th>\n",
       "      <td>Alice</td>\n",
       "      <td>science</td>\n",
       "      <td>95</td>\n",
       "    </tr>\n",
       "    <tr>\n",
       "      <th>3</th>\n",
       "      <td>Bob</td>\n",
       "      <td>science</td>\n",
       "      <td>92</td>\n",
       "    </tr>\n",
       "  </tbody>\n",
       "</table>\n",
       "</div>"
      ],
      "text/plain": [
       "  student  subject  grade\n",
       "0   Alice     math     90\n",
       "1     Bob     math     88\n",
       "2   Alice  science     95\n",
       "3     Bob  science     92"
      ]
     },
     "execution_count": 5,
     "metadata": {},
     "output_type": "execute_result"
    }
   ],
   "source": [
    "df"
   ]
  },
  {
   "cell_type": "code",
   "execution_count": null,
   "id": "02689526-d6cf-4486-bb9a-5d81721caa80",
   "metadata": {},
   "outputs": [],
   "source": []
  }
 ],
 "metadata": {
  "kernelspec": {
   "display_name": "Python 3 (ipykernel)",
   "language": "python",
   "name": "python3"
  },
  "language_info": {
   "codemirror_mode": {
    "name": "ipython",
    "version": 3
   },
   "file_extension": ".py",
   "mimetype": "text/x-python",
   "name": "python",
   "nbconvert_exporter": "python",
   "pygments_lexer": "ipython3",
   "version": "3.12.2"
  }
 },
 "nbformat": 4,
 "nbformat_minor": 5
}
