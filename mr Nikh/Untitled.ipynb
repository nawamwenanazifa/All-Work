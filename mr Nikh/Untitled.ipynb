{
 "cells": [
  {
   "cell_type": "code",
   "execution_count": 6,
   "id": "5ee5cd65-b6b8-49a1-afa8-ecfdba0953d5",
   "metadata": {},
   "outputs": [
    {
     "ename": "NameError",
     "evalue": "name 'months' is not defined",
     "output_type": "error",
     "traceback": [
      "\u001b[1;31m---------------------------------------------------------------------------\u001b[0m",
      "\u001b[1;31mNameError\u001b[0m                                 Traceback (most recent call last)",
      "Cell \u001b[1;32mIn[6], line 8\u001b[0m\n\u001b[0;32m      5\u001b[0m sales\u001b[38;5;241m=\u001b[39m[\u001b[38;5;241m500\u001b[39m,\u001b[38;5;241m700\u001b[39m,\u001b[38;5;241m600\u001b[39m,\u001b[38;5;241m800\u001b[39m,\u001b[38;5;241m750\u001b[39m]\n\u001b[0;32m      7\u001b[0m \u001b[38;5;66;03m#examle data\u001b[39;00m\n\u001b[1;32m----> 8\u001b[0m plt\u001b[38;5;241m.\u001b[39mplot(\u001b[43mmonths\u001b[49m, sales)\n\u001b[0;32m      9\u001b[0m plt\u001b[38;5;241m.\u001b[39mtitle(\u001b[38;5;124m\"\u001b[39m\u001b[38;5;124msales per month\u001b[39m\u001b[38;5;124m\"\u001b[39m)\n\u001b[0;32m     10\u001b[0m plt\u001b[38;5;241m.\u001b[39mxlable(\u001b[38;5;124m\"\u001b[39m\u001b[38;5;124mmonth\u001b[39m\u001b[38;5;124m\"\u001b[39m)\n",
      "\u001b[1;31mNameError\u001b[0m: name 'months' is not defined"
     ]
    }
   ],
   "source": [
    "import matplotlib.pyplot as plt\n",
    "\n",
    "#example data\n",
    "month=['jan','feb','mar', 'Apr','may']\n",
    "sales=[500,700,600,800,750]\n",
    "\n",
    "#examle data\n",
    "plt.plot(months, sales)\n",
    "plt.title(\"sales per month\")\n",
    "plt.xlable(\"month\")\n",
    "plt.ylable(\"sales\")\n",
    "plt.show()\n"
   ]
  },
  {
   "cell_type": "code",
   "execution_count": null,
   "id": "cac474db-8b7c-4a96-9d4f-f837c81d305c",
   "metadata": {},
   "outputs": [],
   "source": []
  },
  {
   "cell_type": "code",
   "execution_count": 6,
   "id": "ca686e2a-1daf-4792-9345-d81a390b18ae",
   "metadata": {},
   "outputs": [
    {
     "ename": "NameError",
     "evalue": "name 'months' is not defined",
     "output_type": "error",
     "traceback": [
      "\u001b[1;31m---------------------------------------------------------------------------\u001b[0m",
      "\u001b[1;31mNameError\u001b[0m                                 Traceback (most recent call last)",
      "Cell \u001b[1;32mIn[6], line 8\u001b[0m\n\u001b[0;32m      5\u001b[0m sales\u001b[38;5;241m=\u001b[39m[\u001b[38;5;241m500\u001b[39m,\u001b[38;5;241m700\u001b[39m,\u001b[38;5;241m600\u001b[39m,\u001b[38;5;241m800\u001b[39m,\u001b[38;5;241m750\u001b[39m]\n\u001b[0;32m      7\u001b[0m \u001b[38;5;66;03m#examle data\u001b[39;00m\n\u001b[1;32m----> 8\u001b[0m plt\u001b[38;5;241m.\u001b[39mplot(\u001b[43mmonths\u001b[49m, sales)\n\u001b[0;32m      9\u001b[0m plt\u001b[38;5;241m.\u001b[39mtitle(\u001b[38;5;124m\"\u001b[39m\u001b[38;5;124msales per month\u001b[39m\u001b[38;5;124m\"\u001b[39m)\n\u001b[0;32m     10\u001b[0m plt\u001b[38;5;241m.\u001b[39mxlable(\u001b[38;5;124m\"\u001b[39m\u001b[38;5;124mmonth\u001b[39m\u001b[38;5;124m\"\u001b[39m)\n",
      "\u001b[1;31mNameError\u001b[0m: name 'months' is not defined"
     ]
    }
   ],
   "source": [
    "import matplotlib.pyplot as plt\n",
    "\n",
    "#example data\n",
    "month=['jan','feb','mar', 'Apr','may']\n",
    "sales=[500,700,600,800,750]\n",
    "\n",
    "#examle data\n",
    "plt.plot(months, sales)\n",
    "plt.title(\"sales per month\")\n",
    "plt.xlable(\"month\")\n",
    "plt.ylable(\"sales\")\n",
    "plt.show()\n"
   ]
  }
 ],
 "metadata": {
  "kernelspec": {
   "display_name": "Python 3 (ipykernel)",
   "language": "python",
   "name": "python3"
  },
  "language_info": {
   "codemirror_mode": {
    "name": "ipython",
    "version": 3
   },
   "file_extension": ".py",
   "mimetype": "text/x-python",
   "name": "python",
   "nbconvert_exporter": "python",
   "pygments_lexer": "ipython3",
   "version": "3.12.2"
  }
 },
 "nbformat": 4,
 "nbformat_minor": 5
}
